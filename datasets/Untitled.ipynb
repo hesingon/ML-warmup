{
 "cells": [
  {
   "cell_type": "code",
   "execution_count": 30,
   "metadata": {},
   "outputs": [
    {
     "data": {
      "text/plain": [
       "array([[-0.01013149,  0.31069913, -0.21276136, ..., -0.5059926 ,\n",
       "        -0.35317604, -0.4924089 ],\n",
       "       [ 0.        ,  0.32804547, -0.20629664, ..., -0.52461956,\n",
       "        -0.34184887, -0.47723456],\n",
       "       [ 0.01012601,  0.33753363, -0.20589552, ..., -0.57849997,\n",
       "        -0.3221193 , -0.45030964],\n",
       "       ..., \n",
       "       [-0.08017998,  0.11319527, -0.3254364 , ..., -0.25154313,\n",
       "        -0.08913907, -0.20514197],\n",
       "       [-0.08529687,  0.28269821, -0.36312097, ..., -0.22611662,\n",
       "        -0.07500454, -0.19854142],\n",
       "       [ 0.00239637,  0.23005184, -0.29235754, ..., -0.49743294,\n",
       "        -0.17449218, -0.47659805]])"
      ]
     },
     "execution_count": 30,
     "metadata": {},
     "output_type": "execute_result"
    }
   ],
   "source": [
    "# description of this dataset http://groupware.les.inf.puc-rio.br/har#ixzz2PyRdbAfA\n",
    "from sklearn import datasets\n",
    "from sklearn import preprocessing as pp\n",
    "from sklearn.neural_network import MLPClassifier\n",
    "from sklearn.model_selection import train_test_split\n",
    "from sklearn.model_selection import KFold\n",
    "from sklearn.metrics import confusion_matrix\n",
    "from sklearn.metrics import recall_score\n",
    "import numpy\n",
    "import csv\n",
    "import pandas as pd\n",
    "import time\n",
    "\n",
    "le = pp.LabelEncoder() \n",
    "le.fit(['sitting', 'walking', 'sittingdown', 'standing', 'standingup'])\n",
    "\n",
    "### Retrieving all data\n",
    "overall = pd.read_csv(\"./dataset-har-PUC-Rio-ugulino.csv\", delimiter=';', header='infer') \n",
    "data = overall.loc[:, \"x1\":\"z4\"].as_matrix() # has to be converted to ndarray in order to be processed by segment_signal()\n",
    "targets = overall.loc[:,\"class,,\"].as_matrix() # double commas: looks like the researchers are naughty\n",
    "\n",
    "# print type(data)\n",
    "# print type(targets)\n",
    "# print data.shape\n",
    "# print targets.shape\n",
    "\n",
    "\n",
    "def debug(item, shape=True):\n",
    "    print item\n",
    "    print type(item)\n",
    "    if (shape == True):\n",
    "        print item.shape()\n",
    "    print \"----------------------\"\n",
    "\n",
    "### Data segmentation: shall use a sudden change of sensor readings\n",
    "### like if (x_pre - x_curr <= 1.0, do nothing)\n",
    "### Range of Accelerometer sensor readings is +3g/-3g\n",
    "\n",
    "# reading 14 sets of data in every 2 seconds. \n",
    "# For segmenting the data from online only. \n",
    "# each set of data is taken 150ms apart from another.\n",
    "# so choosing a window size of 14 will be 2.1 seconds.\n",
    "\n",
    "\n",
    "def segment_signal(data, window_size=14): \n",
    "\n",
    "    N = data.shape[0]\n",
    "    dim = data.shape[1]\n",
    "    K = N/window_size\n",
    "    segments = numpy.empty((K, window_size, dim))\n",
    "    for i in range(K):\n",
    "        segment = data[i*window_size:i*window_size+window_size,:]\n",
    "        segments[i] = numpy.vstack(segment)\n",
    "    return segments\n",
    "\n",
    "##!!!! questions: for normalization, should it be done right after loading csv or after segmenation? \n",
    "##!!!! Normalize() can't process nadarray with dimension > 2.\n",
    "X = pp.normalize(data)\n",
    "y = targets[::14] \n",
    "y = y[:-1]# -1 because it will have a extra set of data than X.\n",
    "\n",
    "segs = segment_signal(X)\n",
    "\n",
    "### feautre extraction // take the difference between sensors\n",
    "\n",
    "### this method is to extract the difference between consecutive sensor readings.\n",
    "## parameter raw is a 2D ndarray\n",
    "## return a 2D ndarray\n",
    "def extract_diff(raw):\n",
    "\n",
    "    N = raw.shape[0] # number of sets of sensor readings\n",
    "    dim = raw.shape[1] # number of values in each readings\n",
    "    features = numpy.empty((N - 1, dim))\n",
    "    for i in range(1, N):\n",
    "        for j in range(dim):\n",
    "            features[i-1][j] = raw[i][j] - raw[i-1][j]\n",
    "\n",
    "    return features\n",
    "\n",
    "def extract_diff_2(raw):\n",
    "\n",
    "    N = raw.shape[0] # number of segments of sensor readings ()\n",
    "    I = raw.shape[1] # number of sets of readings (14)\n",
    "    J = raw.shape[2] # number of values in each set of readings (12)\n",
    "    feature_num = (I - 1) * J\n",
    "    feature = numpy.empty((feature_num))\n",
    "    features = numpy.empty((N, feature_num))\n",
    "    for n in range(N):\n",
    "        idx = 0;\n",
    "        for i in range(1, I):\n",
    "            for j in range(J):\n",
    "                feature[idx] = raw[n][i][j] - raw[n][i-1][j]\n",
    "                idx += 1\n",
    "        numpy.append(features[n], feature)\n",
    "    return features\n",
    "\n",
    "features = extract_diff_2(segs)\n",
    "\n",
    "features"
   ]
  },
  {
   "cell_type": "code",
   "execution_count": 26,
   "metadata": {},
   "outputs": [
    {
     "data": {
      "text/plain": [
       "(11830, 156)"
      ]
     },
     "execution_count": 26,
     "metadata": {},
     "output_type": "execute_result"
    }
   ],
   "source": [
    "features.shape"
   ]
  },
  {
   "cell_type": "code",
   "execution_count": 2,
   "metadata": {},
   "outputs": [
    {
     "data": {
      "text/plain": [
       "['sitting', 'sittingdown', 'standing', 'standingup', 'walking']"
      ]
     },
     "execution_count": 2,
     "metadata": {},
     "output_type": "execute_result"
    }
   ],
   "source": [
    "le = pp.LabelEncoder()\n",
    "le.fit(targets)\n",
    "list(le.classes_)"
   ]
  },
  {
   "cell_type": "code",
   "execution_count": 3,
   "metadata": {},
   "outputs": [
    {
     "data": {
      "text/plain": [
       "array([0, 0, 0, ..., 4, 4, 4])"
      ]
     },
     "execution_count": 3,
     "metadata": {},
     "output_type": "execute_result"
    }
   ],
   "source": [
    "Targets = le.transform(targets)\n",
    "Targets"
   ]
  },
  {
   "cell_type": "code",
   "execution_count": 7,
   "metadata": {},
   "outputs": [
    {
     "data": {
      "text/plain": [
       "array([0, 0, 0, ..., 4, 4, 4])"
      ]
     },
     "execution_count": 7,
     "metadata": {},
     "output_type": "execute_result"
    }
   ],
   "source": [
    "y = Targets[::14] \n",
    "y = y[:-1]\n",
    "y"
   ]
  },
  {
   "cell_type": "code",
   "execution_count": 27,
   "metadata": {},
   "outputs": [
    {
     "data": {
      "text/plain": [
       "(11830,)"
      ]
     },
     "execution_count": 27,
     "metadata": {},
     "output_type": "execute_result"
    }
   ],
   "source": [
    "y.shape"
   ]
  },
  {
   "cell_type": "code",
   "execution_count": 32,
   "metadata": {},
   "outputs": [
    {
     "data": {
      "text/plain": [
       "array([1, 3, 4])"
      ]
     },
     "execution_count": 32,
     "metadata": {},
     "output_type": "execute_result"
    }
   ],
   "source": [
    "a = numpy.array([1, 3, 4])\n",
    "a"
   ]
  },
  {
   "cell_type": "code",
   "execution_count": 20,
   "metadata": {},
   "outputs": [
    {
     "data": {
      "text/plain": [
       "array([[[-0.01013149,  0.31069913, -0.21276136, ..., -0.50657466,\n",
       "         -0.34784794, -0.49644317],\n",
       "        [-0.01016021,  0.31835337, -0.21675123, ..., -0.50462397,\n",
       "         -0.35222076, -0.49107701],\n",
       "        [-0.00338375,  0.32822383, -0.2064088 , ..., -0.51094638,\n",
       "         -0.35191009, -0.48726012],\n",
       "        ..., \n",
       "        [ 0.01016086,  0.33869517, -0.19983015, ..., -0.50804276,\n",
       "         -0.34885603, -0.48772105],\n",
       "        [ 0.        ,  0.32600865, -0.20715133, ..., -0.5059926 ,\n",
       "         -0.35317604, -0.4924089 ],\n",
       "        [ 0.        ,  0.32804547, -0.20629664, ..., -0.5039049 ,\n",
       "         -0.35171885, -0.49375916]],\n",
       "\n",
       "       [[ 0.        ,  0.32896102, -0.20348104, ..., -0.50531125,\n",
       "         -0.35270047, -0.49174585],\n",
       "        [-0.00338788,  0.32523692, -0.20666096, ..., -0.5047948 ,\n",
       "         -0.35911576, -0.49124326],\n",
       "        [ 0.00676696,  0.33496449, -0.20300878, ..., -0.50752195,\n",
       "         -0.34849841, -0.49060455],\n",
       "        ..., \n",
       "        [-0.01015393,  0.32492566, -0.21323247, ..., -0.52461956,\n",
       "         -0.34184887, -0.47723456],\n",
       "        [ 0.01012601,  0.33753363, -0.20589552, ..., -0.5299278 ,\n",
       "         -0.32740762, -0.47929776],\n",
       "        [-0.01324344,  0.3145316 , -0.20858412, ..., -0.55953517,\n",
       "         -0.31784246, -0.47345283]],\n",
       "\n",
       "       [[ 0.00328204,  0.3282042 , -0.20676864, ..., -0.58092143,\n",
       "         -0.32492215, -0.43651158],\n",
       "        [ 0.        ,  0.30435117, -0.20290078, ..., -0.59919136,\n",
       "         -0.32971376, -0.44701578],\n",
       "        [ 0.        ,  0.31749072, -0.20001915, ..., -0.61275708,\n",
       "         -0.30161618, -0.4413121 ],\n",
       "        ..., \n",
       "        [ 0.00340777,  0.34077732, -0.20787417, ..., -0.51457375,\n",
       "         -0.35781619, -0.46686493],\n",
       "        [-0.0033612 ,  0.32267495, -0.21511663, ..., -0.5075408 ,\n",
       "         -0.37309291, -0.47729003],\n",
       "        [-0.00335913,  0.33591297, -0.21834343, ..., -0.52402424,\n",
       "         -0.34599036, -0.47027816]],\n",
       "\n",
       "       ..., \n",
       "       [[-0.02593303,  0.21524416, -0.4227084 , ..., -0.44604813,\n",
       "         -0.26970352, -0.39158877],\n",
       "        [-0.07638037,  0.24328561, -0.42999317, ..., -0.41867756,\n",
       "         -0.27157463, -0.42150646],\n",
       "        [-0.07462317,  0.22138208, -0.36814098, ..., -0.48505062,\n",
       "         -0.23879415, -0.35819122],\n",
       "        ..., \n",
       "        [ 0.02493789,  0.2468851 , -0.36409317, ..., -0.55112734,\n",
       "         -0.20947826, -0.39651243],\n",
       "        [-0.0236354 ,  0.27574636, -0.34402641, ..., -0.56724966,\n",
       "         -0.23898018, -0.42018493],\n",
       "        [ 0.06219296,  0.21660308, -0.30453107, ..., -0.40961573,\n",
       "         -0.16084387, -0.3002419 ]],\n",
       "\n",
       "       [[-0.00798228,  0.26607604, -0.3831495 , ..., -0.54545589,\n",
       "         -0.20753931, -0.43636471],\n",
       "        [ 0.05572407,  0.230495  , -0.40020012, ..., -0.46099001,\n",
       "         -0.17730385, -0.38246973],\n",
       "        [-0.04283975,  0.24632854, -0.39359017, ..., -0.52478689,\n",
       "         -0.24632854, -0.42571998],\n",
       "        ..., \n",
       "        [ 0.01669333,  0.25993895, -0.3672532 , ..., -0.43164175,\n",
       "         -0.20270469, -0.35055987],\n",
       "        [-0.04391184,  0.26835016, -0.33665747, ..., -0.45375572,\n",
       "         -0.23175696, -0.37569022],\n",
       "        [ 0.00685736,  0.25600819, -0.31772445, ..., -0.4365854 ,\n",
       "         -0.16914827, -0.34743969]],\n",
       "\n",
       "       [[-0.00732848,  0.1685551 , -0.43970894, ..., -0.48123701,\n",
       "         -0.09527027, -0.35176716],\n",
       "        [-0.08673522,  0.17594859, -0.4634139 , ..., -0.41880722,\n",
       "         -0.06691003, -0.36180979],\n",
       "        [-0.05580247,  0.25754987, -0.32837609, ..., -0.41207979,\n",
       "         -0.16526117, -0.31549859],\n",
       "        ..., \n",
       "        [-0.01048559,  0.23068288, -0.41418062, ..., -0.4980653 ,\n",
       "         -0.19136193, -0.41942341],\n",
       "        [-0.02062027,  0.21909036, -0.39694018, ..., -0.50004152,\n",
       "         -0.20362516, -0.42013798],\n",
       "        [ 0.0025491 ,  0.23451691, -0.39256091, ..., -0.50472117,\n",
       "         -0.20137865, -0.42060098]]])"
      ]
     },
     "execution_count": 20,
     "metadata": {},
     "output_type": "execute_result"
    }
   ],
   "source": [
    "segs\n"
   ]
  },
  {
   "cell_type": "code",
   "execution_count": 29,
   "metadata": {},
   "outputs": [
    {
     "name": "stdout",
     "output_type": "stream",
     "text": [
      "2.7.13 |Anaconda custom (x86_64)| (default, Dec 20 2016, 23:05:08) \n",
      "[GCC 4.2.1 Compatible Apple LLVM 6.0 (clang-600.0.57)]\n"
     ]
    }
   ],
   "source": [
    "import sys\n",
    "print (sys.version)"
   ]
  },
  {
   "cell_type": "code",
   "execution_count": 28,
   "metadata": {},
   "outputs": [
    {
     "name": "stdout",
     "output_type": "stream",
     "text": [
      "In the 0 fold, the classification accuracy is 0.935757\n",
      "And the confusion matrix is: \n",
      "[[374   4   0   0   0]\n",
      " [  0  70   1   0   0]\n",
      " [  0   4 298  16   8]\n",
      " [  0   0  24  61   1]\n",
      " [  1   2  11   4 304]]\n",
      "In the 1 fold, the classification accuracy is 0.912933\n",
      "And the confusion matrix is: \n",
      "[[334   2   0   0   0]\n",
      " [  3  89   3   1   4]\n",
      " [  0   3 307  24  16]\n",
      " [  0   0  26  75   2]\n",
      " [  0   0  16   3 275]]\n",
      "In the 2 fold, the classification accuracy is 0.909552\n",
      "And the confusion matrix is: \n",
      "[[365   6   0   0   0]\n",
      " [  2  77   1   0   2]\n",
      " [  0   8 297   9  12]\n",
      " [  0   0  39  65   1]\n",
      " [  0   2  18   7 272]]\n",
      "In the 3 fold, the classification accuracy is 0.947591\n",
      "And the confusion matrix is: \n",
      "[[351   0   0   0   0]\n",
      " [  4  69   0   0   3]\n",
      " [  0   0 305  10  10]\n",
      " [  0   0  12  73   2]\n",
      " [  0   0  14   7 323]]\n",
      "In the 4 fold, the classification accuracy is 0.929839\n",
      "And the confusion matrix is: \n",
      "[[372   5   0   1   0]\n",
      " [  6  72   1   0   2]\n",
      " [  0   2 313  19  12]\n",
      " [  1   0  17  63   1]\n",
      " [  0   0  14   2 280]]\n",
      "In the 5 fold, the classification accuracy is 0.923077\n",
      "And the confusion matrix is: \n",
      "[[357   1   0   0   0]\n",
      " [  2  80   1   0   2]\n",
      " [  0   6 327  35   9]\n",
      " [  0   0  10  52   3]\n",
      " [  1   3  13   5 276]]\n",
      "In the 6 fold, the classification accuracy is 0.922232\n",
      "And the confusion matrix is: \n",
      "[[349   2   1   0   0]\n",
      " [  1  80   3   0   4]\n",
      " [  1   2 292  17   7]\n",
      " [  1   0  37  56   0]\n",
      " [  0   0  10   6 314]]\n",
      "In the 7 fold, the classification accuracy is 0.915469\n",
      "And the confusion matrix is: \n",
      "[[352   4   0   0   0]\n",
      " [  4  81   0   2   0]\n",
      " [  0   5 292  20  11]\n",
      " [  0   0  33  52   0]\n",
      " [  1   2  15   3 306]]\n",
      "In the 8 fold, the classification accuracy is 0.911243\n",
      "And the confusion matrix is: \n",
      "[[372   9   0   0   0]\n",
      " [  3  90   2   1   1]\n",
      " [  0   0 306  26  13]\n",
      " [  0   1  20  56   2]\n",
      " [  1   3  22   1 254]]\n",
      "In the 9 fold, the classification accuracy is 0.928994\n",
      "And the confusion matrix is: \n",
      "[[354   2   0   0   0]\n",
      " [  2  74   1   0   1]\n",
      " [  0   0 320  11  10]\n",
      " [  0   0  30  68   3]\n",
      " [  2   3  15   4 283]]\n"
     ]
    }
   ],
   "source": [
    "#having 15 neurons\n",
    "kfold = KFold(n_splits=10, shuffle=True)\n",
    "\n",
    "fold_index = 0\n",
    "for train, test in kfold.split(features):\n",
    "    clf = MLPClassifier(solver='lbfgs', alpha=1e-5,\n",
    "                     hidden_layer_sizes=(15,), random_state=1).fit(features[train], y[train])\n",
    "    predictions = clf.predict(features[test])\n",
    "    accuracy = clf.score(features[test], y[test])\n",
    "    cm = confusion_matrix(y[test], predictions)\n",
    "\n",
    "    print('In the %i fold, the classification accuracy is %f' %(fold_index, accuracy))\n",
    "    print('And the confusion matrix is: ')\n",
    "    print(cm)\n",
    "    fold_index += 1"
   ]
  },
  {
   "cell_type": "code",
   "execution_count": 9,
   "metadata": {},
   "outputs": [
    {
     "data": {
      "text/plain": [
       "array([[ 0.,  0.,  0., ...,  0.,  0.,  0.],\n",
       "       [ 0.,  0.,  0., ...,  0.,  0.,  0.],\n",
       "       [ 0.,  0.,  0., ...,  0.,  0.,  0.],\n",
       "       ..., \n",
       "       [ 0.,  0.,  0., ...,  0.,  0.,  0.],\n",
       "       [ 0.,  0.,  0., ...,  0.,  0.,  0.],\n",
       "       [ 0.,  0.,  0., ...,  0.,  0.,  0.]])"
      ]
     },
     "execution_count": 9,
     "metadata": {},
     "output_type": "execute_result"
    }
   ],
   "source": [
    "features"
   ]
  },
  {
   "cell_type": "code",
   "execution_count": 10,
   "metadata": {},
   "outputs": [
    {
     "data": {
      "text/plain": [
       "array([[[-0.01013149,  0.31069913, -0.21276136, ..., -0.50657466,\n",
       "         -0.34784794, -0.49644317],\n",
       "        [-0.01016021,  0.31835337, -0.21675123, ..., -0.50462397,\n",
       "         -0.35222076, -0.49107701],\n",
       "        [-0.00338375,  0.32822383, -0.2064088 , ..., -0.51094638,\n",
       "         -0.35191009, -0.48726012],\n",
       "        ..., \n",
       "        [ 0.01016086,  0.33869517, -0.19983015, ..., -0.50804276,\n",
       "         -0.34885603, -0.48772105],\n",
       "        [ 0.        ,  0.32600865, -0.20715133, ..., -0.5059926 ,\n",
       "         -0.35317604, -0.4924089 ],\n",
       "        [ 0.        ,  0.32804547, -0.20629664, ..., -0.5039049 ,\n",
       "         -0.35171885, -0.49375916]],\n",
       "\n",
       "       [[ 0.        ,  0.32896102, -0.20348104, ..., -0.50531125,\n",
       "         -0.35270047, -0.49174585],\n",
       "        [-0.00338788,  0.32523692, -0.20666096, ..., -0.5047948 ,\n",
       "         -0.35911576, -0.49124326],\n",
       "        [ 0.00676696,  0.33496449, -0.20300878, ..., -0.50752195,\n",
       "         -0.34849841, -0.49060455],\n",
       "        ..., \n",
       "        [-0.01015393,  0.32492566, -0.21323247, ..., -0.52461956,\n",
       "         -0.34184887, -0.47723456],\n",
       "        [ 0.01012601,  0.33753363, -0.20589552, ..., -0.5299278 ,\n",
       "         -0.32740762, -0.47929776],\n",
       "        [-0.01324344,  0.3145316 , -0.20858412, ..., -0.55953517,\n",
       "         -0.31784246, -0.47345283]],\n",
       "\n",
       "       [[ 0.00328204,  0.3282042 , -0.20676864, ..., -0.58092143,\n",
       "         -0.32492215, -0.43651158],\n",
       "        [ 0.        ,  0.30435117, -0.20290078, ..., -0.59919136,\n",
       "         -0.32971376, -0.44701578],\n",
       "        [ 0.        ,  0.31749072, -0.20001915, ..., -0.61275708,\n",
       "         -0.30161618, -0.4413121 ],\n",
       "        ..., \n",
       "        [ 0.00340777,  0.34077732, -0.20787417, ..., -0.51457375,\n",
       "         -0.35781619, -0.46686493],\n",
       "        [-0.0033612 ,  0.32267495, -0.21511663, ..., -0.5075408 ,\n",
       "         -0.37309291, -0.47729003],\n",
       "        [-0.00335913,  0.33591297, -0.21834343, ..., -0.52402424,\n",
       "         -0.34599036, -0.47027816]],\n",
       "\n",
       "       ..., \n",
       "       [[-0.02593303,  0.21524416, -0.4227084 , ..., -0.44604813,\n",
       "         -0.26970352, -0.39158877],\n",
       "        [-0.07638037,  0.24328561, -0.42999317, ..., -0.41867756,\n",
       "         -0.27157463, -0.42150646],\n",
       "        [-0.07462317,  0.22138208, -0.36814098, ..., -0.48505062,\n",
       "         -0.23879415, -0.35819122],\n",
       "        ..., \n",
       "        [ 0.02493789,  0.2468851 , -0.36409317, ..., -0.55112734,\n",
       "         -0.20947826, -0.39651243],\n",
       "        [-0.0236354 ,  0.27574636, -0.34402641, ..., -0.56724966,\n",
       "         -0.23898018, -0.42018493],\n",
       "        [ 0.06219296,  0.21660308, -0.30453107, ..., -0.40961573,\n",
       "         -0.16084387, -0.3002419 ]],\n",
       "\n",
       "       [[-0.00798228,  0.26607604, -0.3831495 , ..., -0.54545589,\n",
       "         -0.20753931, -0.43636471],\n",
       "        [ 0.05572407,  0.230495  , -0.40020012, ..., -0.46099001,\n",
       "         -0.17730385, -0.38246973],\n",
       "        [-0.04283975,  0.24632854, -0.39359017, ..., -0.52478689,\n",
       "         -0.24632854, -0.42571998],\n",
       "        ..., \n",
       "        [ 0.01669333,  0.25993895, -0.3672532 , ..., -0.43164175,\n",
       "         -0.20270469, -0.35055987],\n",
       "        [-0.04391184,  0.26835016, -0.33665747, ..., -0.45375572,\n",
       "         -0.23175696, -0.37569022],\n",
       "        [ 0.00685736,  0.25600819, -0.31772445, ..., -0.4365854 ,\n",
       "         -0.16914827, -0.34743969]],\n",
       "\n",
       "       [[-0.00732848,  0.1685551 , -0.43970894, ..., -0.48123701,\n",
       "         -0.09527027, -0.35176716],\n",
       "        [-0.08673522,  0.17594859, -0.4634139 , ..., -0.41880722,\n",
       "         -0.06691003, -0.36180979],\n",
       "        [-0.05580247,  0.25754987, -0.32837609, ..., -0.41207979,\n",
       "         -0.16526117, -0.31549859],\n",
       "        ..., \n",
       "        [-0.01048559,  0.23068288, -0.41418062, ..., -0.4980653 ,\n",
       "         -0.19136193, -0.41942341],\n",
       "        [-0.02062027,  0.21909036, -0.39694018, ..., -0.50004152,\n",
       "         -0.20362516, -0.42013798],\n",
       "        [ 0.0025491 ,  0.23451691, -0.39256091, ..., -0.50472117,\n",
       "         -0.20137865, -0.42060098]]])"
      ]
     },
     "execution_count": 10,
     "metadata": {},
     "output_type": "execute_result"
    }
   ],
   "source": [
    "segs"
   ]
  },
  {
   "cell_type": "code",
   "execution_count": null,
   "metadata": {
    "collapsed": true
   },
   "outputs": [],
   "source": []
  }
 ],
 "metadata": {
  "kernelspec": {
   "display_name": "Python 2",
   "language": "python",
   "name": "python2"
  },
  "language_info": {
   "codemirror_mode": {
    "name": "ipython",
    "version": 2
   },
   "file_extension": ".py",
   "mimetype": "text/x-python",
   "name": "python",
   "nbconvert_exporter": "python",
   "pygments_lexer": "ipython2",
   "version": "2.7.13"
  }
 },
 "nbformat": 4,
 "nbformat_minor": 2
}
