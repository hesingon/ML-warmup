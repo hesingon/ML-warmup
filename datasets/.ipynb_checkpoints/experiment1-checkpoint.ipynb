{
 "cells": [
  {
   "cell_type": "code",
   "execution_count": 48,
   "metadata": {},
   "outputs": [
    {
     "data": {
      "text/plain": [
       "array([[ -2.87208136e-05,   7.65424768e-03,  -3.98987512e-03,\n",
       "          6.55328316e-03,   1.72324882e-04,   3.20483955e-03,\n",
       "         -6.43001546e-02,   9.95654873e-04,   5.89270444e-03,\n",
       "          1.95069735e-03,  -4.37281930e-03,   5.36615619e-03],\n",
       "       [  6.77646324e-03,   9.87045812e-03,   1.03424318e-02,\n",
       "          3.05164884e-02,   6.71373256e-03,   1.02050217e-02,\n",
       "          3.42557131e-03,  -3.10666194e-04,   2.68845745e-04,\n",
       "         -6.32241265e-03,   3.10666194e-04,   3.81689122e-03],\n",
       "       [ -3.41727876e-03,  -1.77441144e-03,   1.25794581e-02,\n",
       "         -1.04027119e-02,   3.73579385e-03,  -3.65197409e-03,\n",
       "         -2.17931380e-04,   1.74345104e-03,   1.89175910e-03,\n",
       "         -9.33238641e-03,   1.65706377e-03,   4.38702049e-03],\n",
       "       [  3.41677499e-03,  -1.56097715e-03,  -1.26101883e-02,\n",
       "          7.01241194e-03,  -3.72571838e-03,   3.64441749e-03,\n",
       "          2.11382322e-04,  -1.69105858e-03,   1.44715590e-03,\n",
       "          2.48780733e-03,  -1.70945623e-03,  -1.07530927e-03],\n",
       "       [ -3.39712094e-03,  -2.77310485e-03,  -3.78311027e-03,\n",
       "         -3.47431881e-03,  -3.26202467e-03,  -3.48718512e-03,\n",
       "         -8.36310222e-05,   6.69048178e-04,  -5.72550844e-04,\n",
       "         -9.84272800e-04,  -6.69048178e-04,   2.47074654e-03],\n",
       "       [  1.01576737e-02,   1.55144723e-02,   8.92159304e-04,\n",
       "          1.37066478e-02,   9.85549070e-03,   1.37354271e-02,\n",
       "          1.87065660e-04,  -1.49652528e-03,  -2.09561783e-03,\n",
       "          8.95421517e-03,   1.49652528e-03,  -1.33296552e-03],\n",
       "       [ -6.77329908e-03,  -8.12071916e-03,  -4.68057686e-03,\n",
       "         -1.03980312e-02,  -6.33853950e-03,  -1.04394369e-02,\n",
       "          3.12786407e-03,   2.15309506e-03,   4.93074658e-03,\n",
       "         -3.12612840e-03,  -2.15309506e-03,   4.36495255e-04],\n",
       "       [  2.51202422e-05,   9.35217220e-04,   1.58257526e-03,\n",
       "         -3.04531757e-03,  -3.87428556e-03,  -6.36695780e-03,\n",
       "         -3.07043781e-03,  -2.61250519e-03,  -4.53318011e-03,\n",
       "          4.21275859e-04,   5.98438590e-03,  -3.17668704e-03],\n",
       "       [  3.37188071e-03,   7.86133653e-04,   6.25443334e-03,\n",
       "          1.00274027e-02,   1.02921211e-02,   1.33832398e-02,\n",
       "         -1.04283036e-04,   8.34264285e-04,  -7.21959477e-04,\n",
       "          2.16059315e-03,  -4.20614500e-03,  -1.15513516e-03],\n",
       "       [ -3.39790292e-03,  -8.42966649e-03,   2.29987661e-03,\n",
       "         -6.99381058e-03,  -9.79769926e-03,  -1.38256173e-02,\n",
       "         -2.34005607e-04,   5.26994777e-03,   1.77786410e-03,\n",
       "          6.79837792e-04,  -1.87204485e-03,  -2.59206211e-03],\n",
       "       [  1.35587580e-02,   1.58943932e-02,   4.04402453e-03,\n",
       "          1.03032209e-02,   9.95278205e-03,   1.37339774e-02,\n",
       "          1.42365779e-04,  -4.53682915e-03,  -2.41229368e-03,\n",
       "          1.64268206e-03,   4.52587793e-03,   1.57697478e-03],\n",
       "       [ -1.01608551e-02,  -1.26865175e-02,  -7.32118096e-03,\n",
       "         -1.36734115e-02,  -6.59446814e-03,  -6.90847986e-03,\n",
       "          3.27929055e-03,   4.32898684e-03,   5.98438824e-03,\n",
       "          2.05015898e-03,  -4.32001508e-03,  -4.68785737e-03],\n",
       "       [  0.00000000e+00,   2.03681658e-03,   8.54696084e-04,\n",
       "          1.96159757e-04,  -2.80228224e-04,  -6.55365294e-03,\n",
       "         -3.21377512e-03,  -4.85311023e-03,  -5.53081993e-03,\n",
       "          2.08770027e-03,   1.45718677e-03,  -1.35025743e-03]])"
      ]
     },
     "execution_count": 48,
     "metadata": {},
     "output_type": "execute_result"
    }
   ],
   "source": [
    "# description of this dataset http://groupware.les.inf.puc-rio.br/har#ixzz2PyRdbAfA\n",
    "from sklearn import datasets\n",
    "from sklearn import preprocessing as pp\n",
    "from sklearn.neural_network import MLPClassifier\n",
    "from sklearn.model_selection import train_test_split\n",
    "from sklearn.model_selection import KFold\n",
    "from sklearn.metrics import confusion_matrix\n",
    "from sklearn.metrics import recall_score\n",
    "import numpy\n",
    "import csv\n",
    "import pandas as pd\n",
    "\n",
    "le = pp.LabelEncoder() \n",
    "le.fit(['sitting', 'walking', 'sittingdown', 'standing', 'standingup'])\n",
    "\n",
    "### Retrieving all data\n",
    "overall = pd.read_csv(\"./dataset-har-PUC-Rio-ugulino.csv\", delimiter=';', header='infer') \n",
    "data = overall.loc[:, \"x1\":\"z4\"].as_matrix() # has to be converted to ndarray in order to be processed by segment_signal()\n",
    "targets = overall.loc[:,\"class,,\"].as_matrix() # double commas: looks like the researchers are naughty\n",
    "\n",
    "# print type(data)\n",
    "# print type(targets)\n",
    "# print data.shape\n",
    "# print targets.shape\n",
    "\n",
    "\n",
    "def debug(item, shape=True):\n",
    "    print item\n",
    "    print type(item)\n",
    "    if (shape == True):\n",
    "        print item.shape()\n",
    "    print \"----------------------\"\n",
    "\n",
    "### Data segmentation: shall use a sudden change of sensor readings\n",
    "### like if (x_pre - x_curr <= 1.0, do nothing)\n",
    "### Range of Accelerometer sensor readings is +3g/-3g\n",
    "\n",
    "# reading 14 sets of data in every 2 seconds. \n",
    "# For segmenting the data from online only. \n",
    "# each set of data is taken 150ms apart from another.\n",
    "# so choosing a window size of 14 will be 2.1 seconds.\n",
    "\n",
    "\n",
    "def segment_signal(data, window_size=14): \n",
    "\n",
    "    N = data.shape[0]\n",
    "    dim = data.shape[1]\n",
    "    K = N/window_size\n",
    "    segments = numpy.empty((K, window_size, dim))\n",
    "    for i in range(K):\n",
    "        segment = data[i*window_size:i*window_size+window_size,:]\n",
    "        segments[i] = numpy.vstack(segment)\n",
    "    return segments\n",
    "\n",
    "##!!!! questions: for normalization, should it be done right after loading csv or after segmenation? \n",
    "##!!!! Normalize() can't process nadarray with dimension > 2.\n",
    "X = pp.normalize(data)\n",
    "y = targets[::14]\n",
    "\n",
    "segs = segment_signal(X)\n",
    "\n",
    "### feautre extraction // take the difference between sensors\n",
    "\n",
    "### this method is to extract the difference between consecutive sensor readings.\n",
    "## parameter raw is a 2D ndarray\n",
    "## return a 2D ndarray\n",
    "def extract_diff(raw):\n",
    "\n",
    "    N = raw.shape[0] # number of sets of sensor readings\n",
    "    dim = raw.shape[1] # number of values in each readings\n",
    "    features = numpy.empty((N - 1, dim))\n",
    "    for i in range(1, N):\n",
    "        for j in range(dim):\n",
    "            features[i-1][j] = raw[i][j] - raw[i-1][j]\n",
    "\n",
    "    return features\n",
    "\n",
    "features = extract_diff(segs[0])\n",
    "features"
   ]
  },
  {
   "cell_type": "code",
   "execution_count": 8,
   "metadata": {},
   "outputs": [
    {
     "data": {
      "text/plain": [
       "['sitting', 'sittingdown', 'standing', 'standingup', 'walking']"
      ]
     },
     "execution_count": 8,
     "metadata": {},
     "output_type": "execute_result"
    }
   ],
   "source": [
    "le = pp.LabelEncoder() \n",
    "le.fit(targets)\n",
    "list(le.classes_)"
   ]
  },
  {
   "cell_type": "code",
   "execution_count": 49,
   "metadata": {},
   "outputs": [
    {
     "data": {
      "text/plain": [
       "(11831,)"
      ]
     },
     "execution_count": 49,
     "metadata": {},
     "output_type": "execute_result"
    }
   ],
   "source": [
    "y.shape"
   ]
  },
  {
   "cell_type": "code",
   "execution_count": null,
   "metadata": {
    "collapsed": true
   },
   "outputs": [],
   "source": []
  },
  {
   "cell_type": "code",
   "execution_count": 19,
   "metadata": {},
   "outputs": [
    {
     "data": {
      "text/plain": [
       "(13, 12)"
      ]
     },
     "execution_count": 19,
     "metadata": {},
     "output_type": "execute_result"
    }
   ],
   "source": [
    "features.shape"
   ]
  },
  {
   "cell_type": "code",
   "execution_count": 45,
   "metadata": {},
   "outputs": [
    {
     "data": {
      "text/plain": [
       "(165632,)"
      ]
     },
     "execution_count": 45,
     "metadata": {},
     "output_type": "execute_result"
    }
   ],
   "source": [
    "y.shape"
   ]
  },
  {
   "cell_type": "code",
   "execution_count": 41,
   "metadata": {},
   "outputs": [
    {
     "data": {
      "text/plain": [
       "(11831,)"
      ]
     },
     "execution_count": 41,
     "metadata": {},
     "output_type": "execute_result"
    }
   ],
   "source": [
    "Y = y[::14]\n",
    "Y.shape"
   ]
  },
  {
   "cell_type": "code",
   "execution_count": null,
   "metadata": {
    "collapsed": true
   },
   "outputs": [],
   "source": []
  },
  {
   "cell_type": "code",
   "execution_count": 51,
   "metadata": {},
   "outputs": [
    {
     "ename": "ValueError",
     "evalue": "Found array with dim 3. Estimator expected <= 2.",
     "output_type": "error",
     "traceback": [
      "\u001b[0;31m---------------------------------------------------------------------------\u001b[0m",
      "\u001b[0;31mValueError\u001b[0m                                Traceback (most recent call last)",
      "\u001b[0;32m<ipython-input-51-70eeef7bc1c3>\u001b[0m in \u001b[0;36m<module>\u001b[0;34m()\u001b[0m\n\u001b[1;32m      7\u001b[0m \u001b[0;32mfor\u001b[0m \u001b[0mtrain\u001b[0m\u001b[0;34m,\u001b[0m \u001b[0mtest\u001b[0m \u001b[0;32min\u001b[0m \u001b[0mkfold\u001b[0m\u001b[0;34m.\u001b[0m\u001b[0msplit\u001b[0m\u001b[0;34m(\u001b[0m\u001b[0msegs\u001b[0m\u001b[0;34m)\u001b[0m\u001b[0;34m:\u001b[0m\u001b[0;34m\u001b[0m\u001b[0m\n\u001b[1;32m      8\u001b[0m     clf = MLPClassifier(solver='lbfgs', alpha=1e-5,\n\u001b[0;32m----> 9\u001b[0;31m                      hidden_layer_sizes=(15,), random_state=1).fit(segs[train], y[train])\n\u001b[0m\u001b[1;32m     10\u001b[0m     \u001b[0mpredictions\u001b[0m \u001b[0;34m=\u001b[0m \u001b[0mclf\u001b[0m\u001b[0;34m.\u001b[0m\u001b[0mpredict\u001b[0m\u001b[0;34m(\u001b[0m\u001b[0msegs\u001b[0m\u001b[0;34m[\u001b[0m\u001b[0mtest\u001b[0m\u001b[0;34m]\u001b[0m\u001b[0;34m)\u001b[0m\u001b[0;34m\u001b[0m\u001b[0m\n\u001b[1;32m     11\u001b[0m     \u001b[0maccuracy\u001b[0m \u001b[0;34m=\u001b[0m \u001b[0mclf\u001b[0m\u001b[0;34m.\u001b[0m\u001b[0mscore\u001b[0m\u001b[0;34m(\u001b[0m\u001b[0msegs\u001b[0m\u001b[0;34m[\u001b[0m\u001b[0mtest\u001b[0m\u001b[0;34m]\u001b[0m\u001b[0;34m,\u001b[0m \u001b[0my\u001b[0m\u001b[0;34m[\u001b[0m\u001b[0mtest\u001b[0m\u001b[0;34m]\u001b[0m\u001b[0;34m)\u001b[0m\u001b[0;34m\u001b[0m\u001b[0m\n",
      "\u001b[0;32m/Users/Darius/anaconda/lib/python2.7/site-packages/sklearn/neural_network/multilayer_perceptron.pyc\u001b[0m in \u001b[0;36mfit\u001b[0;34m(self, X, y)\u001b[0m\n\u001b[1;32m    971\u001b[0m         \"\"\"\n\u001b[1;32m    972\u001b[0m         return self._fit(X, y, incremental=(self.warm_start and\n\u001b[0;32m--> 973\u001b[0;31m                                             hasattr(self, \"classes_\")))\n\u001b[0m\u001b[1;32m    974\u001b[0m \u001b[0;34m\u001b[0m\u001b[0m\n\u001b[1;32m    975\u001b[0m     \u001b[0;34m@\u001b[0m\u001b[0mproperty\u001b[0m\u001b[0;34m\u001b[0m\u001b[0m\n",
      "\u001b[0;32m/Users/Darius/anaconda/lib/python2.7/site-packages/sklearn/neural_network/multilayer_perceptron.pyc\u001b[0m in \u001b[0;36m_fit\u001b[0;34m(self, X, y, incremental)\u001b[0m\n\u001b[1;32m    329\u001b[0m                              hidden_layer_sizes)\n\u001b[1;32m    330\u001b[0m \u001b[0;34m\u001b[0m\u001b[0m\n\u001b[0;32m--> 331\u001b[0;31m         \u001b[0mX\u001b[0m\u001b[0;34m,\u001b[0m \u001b[0my\u001b[0m \u001b[0;34m=\u001b[0m \u001b[0mself\u001b[0m\u001b[0;34m.\u001b[0m\u001b[0m_validate_input\u001b[0m\u001b[0;34m(\u001b[0m\u001b[0mX\u001b[0m\u001b[0;34m,\u001b[0m \u001b[0my\u001b[0m\u001b[0;34m,\u001b[0m \u001b[0mincremental\u001b[0m\u001b[0;34m)\u001b[0m\u001b[0;34m\u001b[0m\u001b[0m\n\u001b[0m\u001b[1;32m    332\u001b[0m         \u001b[0mn_samples\u001b[0m\u001b[0;34m,\u001b[0m \u001b[0mn_features\u001b[0m \u001b[0;34m=\u001b[0m \u001b[0mX\u001b[0m\u001b[0;34m.\u001b[0m\u001b[0mshape\u001b[0m\u001b[0;34m\u001b[0m\u001b[0m\n\u001b[1;32m    333\u001b[0m \u001b[0;34m\u001b[0m\u001b[0m\n",
      "\u001b[0;32m/Users/Darius/anaconda/lib/python2.7/site-packages/sklearn/neural_network/multilayer_perceptron.pyc\u001b[0m in \u001b[0;36m_validate_input\u001b[0;34m(self, X, y, incremental)\u001b[0m\n\u001b[1;32m    908\u001b[0m     \u001b[0;32mdef\u001b[0m \u001b[0m_validate_input\u001b[0m\u001b[0;34m(\u001b[0m\u001b[0mself\u001b[0m\u001b[0;34m,\u001b[0m \u001b[0mX\u001b[0m\u001b[0;34m,\u001b[0m \u001b[0my\u001b[0m\u001b[0;34m,\u001b[0m \u001b[0mincremental\u001b[0m\u001b[0;34m)\u001b[0m\u001b[0;34m:\u001b[0m\u001b[0;34m\u001b[0m\u001b[0m\n\u001b[1;32m    909\u001b[0m         X, y = check_X_y(X, y, accept_sparse=['csr', 'csc', 'coo'],\n\u001b[0;32m--> 910\u001b[0;31m                          multi_output=True)\n\u001b[0m\u001b[1;32m    911\u001b[0m         \u001b[0;32mif\u001b[0m \u001b[0my\u001b[0m\u001b[0;34m.\u001b[0m\u001b[0mndim\u001b[0m \u001b[0;34m==\u001b[0m \u001b[0;36m2\u001b[0m \u001b[0;32mand\u001b[0m \u001b[0my\u001b[0m\u001b[0;34m.\u001b[0m\u001b[0mshape\u001b[0m\u001b[0;34m[\u001b[0m\u001b[0;36m1\u001b[0m\u001b[0;34m]\u001b[0m \u001b[0;34m==\u001b[0m \u001b[0;36m1\u001b[0m\u001b[0;34m:\u001b[0m\u001b[0;34m\u001b[0m\u001b[0m\n\u001b[1;32m    912\u001b[0m             \u001b[0my\u001b[0m \u001b[0;34m=\u001b[0m \u001b[0mcolumn_or_1d\u001b[0m\u001b[0;34m(\u001b[0m\u001b[0my\u001b[0m\u001b[0;34m,\u001b[0m \u001b[0mwarn\u001b[0m\u001b[0;34m=\u001b[0m\u001b[0mTrue\u001b[0m\u001b[0;34m)\u001b[0m\u001b[0;34m\u001b[0m\u001b[0m\n",
      "\u001b[0;32m/Users/Darius/anaconda/lib/python2.7/site-packages/sklearn/utils/validation.pyc\u001b[0m in \u001b[0;36mcheck_X_y\u001b[0;34m(X, y, accept_sparse, dtype, order, copy, force_all_finite, ensure_2d, allow_nd, multi_output, ensure_min_samples, ensure_min_features, y_numeric, warn_on_dtype, estimator)\u001b[0m\n\u001b[1;32m    540\u001b[0m     X = check_array(X, accept_sparse, dtype, order, copy, force_all_finite,\n\u001b[1;32m    541\u001b[0m                     \u001b[0mensure_2d\u001b[0m\u001b[0;34m,\u001b[0m \u001b[0mallow_nd\u001b[0m\u001b[0;34m,\u001b[0m \u001b[0mensure_min_samples\u001b[0m\u001b[0;34m,\u001b[0m\u001b[0;34m\u001b[0m\u001b[0m\n\u001b[0;32m--> 542\u001b[0;31m                     ensure_min_features, warn_on_dtype, estimator)\n\u001b[0m\u001b[1;32m    543\u001b[0m     \u001b[0;32mif\u001b[0m \u001b[0mmulti_output\u001b[0m\u001b[0;34m:\u001b[0m\u001b[0;34m\u001b[0m\u001b[0m\n\u001b[1;32m    544\u001b[0m         y = check_array(y, 'csr', force_all_finite=True, ensure_2d=False,\n",
      "\u001b[0;32m/Users/Darius/anaconda/lib/python2.7/site-packages/sklearn/utils/validation.pyc\u001b[0m in \u001b[0;36mcheck_array\u001b[0;34m(array, accept_sparse, dtype, order, copy, force_all_finite, ensure_2d, allow_nd, ensure_min_samples, ensure_min_features, warn_on_dtype, estimator)\u001b[0m\n\u001b[1;32m    418\u001b[0m         \u001b[0;32mif\u001b[0m \u001b[0;32mnot\u001b[0m \u001b[0mallow_nd\u001b[0m \u001b[0;32mand\u001b[0m \u001b[0marray\u001b[0m\u001b[0;34m.\u001b[0m\u001b[0mndim\u001b[0m \u001b[0;34m>=\u001b[0m \u001b[0;36m3\u001b[0m\u001b[0;34m:\u001b[0m\u001b[0;34m\u001b[0m\u001b[0m\n\u001b[1;32m    419\u001b[0m             raise ValueError(\"Found array with dim %d. %s expected <= 2.\"\n\u001b[0;32m--> 420\u001b[0;31m                              % (array.ndim, estimator_name))\n\u001b[0m\u001b[1;32m    421\u001b[0m         \u001b[0;32mif\u001b[0m \u001b[0mforce_all_finite\u001b[0m\u001b[0;34m:\u001b[0m\u001b[0;34m\u001b[0m\u001b[0m\n\u001b[1;32m    422\u001b[0m             \u001b[0m_assert_all_finite\u001b[0m\u001b[0;34m(\u001b[0m\u001b[0marray\u001b[0m\u001b[0;34m)\u001b[0m\u001b[0;34m\u001b[0m\u001b[0m\n",
      "\u001b[0;31mValueError\u001b[0m: Found array with dim 3. Estimator expected <= 2."
     ]
    }
   ],
   "source": [
    "##need to assign a value for each segmented set of data\n",
    "##This took like 3 mins to finish executing.\n",
    "kfold = KFold(n_splits=10, shuffle=True)\n",
    "\n",
    "fold_index = 0\n",
    "\n",
    "for train, test in kfold.split(segs):\n",
    "    clf = MLPClassifier(solver='lbfgs', alpha=1e-5,\n",
    "                     hidden_layer_sizes=(15,), random_state=1).fit(segs[train], y[train])\n",
    "    predictions = clf.predict(segs[test])\n",
    "    accuracy = clf.score(segs[test], y[test])\n",
    "    cm = confusion_matrix(y[test], predictions)\n",
    "\n",
    "    print('In the %i fold, the classification accuracy is %f' %(fold_index, accuracy))\n",
    "    print('And the confusion matrix is: ')\n",
    "    print(cm)\n",
    "    fold_index += 1"
   ]
  },
  {
   "cell_type": "code",
   "execution_count": null,
   "metadata": {
    "collapsed": true
   },
   "outputs": [],
   "source": []
  },
  {
   "cell_type": "code",
   "execution_count": 8,
   "metadata": {},
   "outputs": [
    {
     "name": "stdout",
     "output_type": "stream",
     "text": [
      "[[  -3.   92.  -63.  -23.   18.  -19.    5.  104.  -92. -150. -103. -147.]\n",
      " [  -3.   94.  -64.  -21.   18.  -18.  -14.  104.  -90. -149. -104. -145.]\n",
      " [  -1.   97.  -61.  -12.   20.  -15.  -13.  104.  -90. -151. -104. -144.]\n",
      " [  -2.   96.  -57.  -15.   21.  -16.  -13.  104.  -89. -153. -103. -142.]\n",
      " [  -1.   96.  -61.  -13.   20.  -15.  -13.  104.  -89. -153. -104. -143.]\n",
      " [  -2.   95.  -62.  -14.   19.  -16.  -13.  104.  -89. -153. -104. -142.]\n",
      " [   1.  100.  -62.  -10.   22.  -12.  -13.  104.  -90. -151. -104. -143.]\n",
      " [  -1.   97.  -63.  -13.   20.  -15.  -12.  104.  -88. -151. -104. -142.]\n",
      " [  -1.   98.  -63.  -14.   19.  -17.  -13.  104.  -90. -152. -103. -144.]\n",
      " [   0.   98.  -61.  -11.   22.  -13.  -13.  104.  -90. -151. -104. -144.]\n",
      " [  -1.   95.  -60.  -13.   19.  -17.  -13.  105.  -89. -150. -104. -144.]\n",
      " [   3.  100.  -59.  -10.   22.  -13.  -13.  104.  -90. -150. -103. -144.]\n",
      " [   0.   96.  -61.  -14.   20.  -15.  -12.  105.  -88. -149. -104. -145.]\n",
      " [   0.   97.  -61.  -14.   20.  -17.  -13.  104.  -90. -149. -104. -146.]]\n",
      "<type 'numpy.ndarray'>\n",
      "----------------------\n"
     ]
    }
   ],
   "source": [
    "# feature = numpy.empty((5, 5))\n",
    "# debug(feature[0][0], False)\n",
    "# debug(segs[0][0], False)\n",
    "debug(segs[0], False)"
   ]
  },
  {
   "cell_type": "code",
   "execution_count": null,
   "metadata": {
    "collapsed": true
   },
   "outputs": [],
   "source": [
    "segs[0].shape"
   ]
  },
  {
   "cell_type": "code",
   "execution_count": null,
   "metadata": {},
   "outputs": [],
   "source": []
  },
  {
   "cell_type": "code",
   "execution_count": null,
   "metadata": {
    "collapsed": true
   },
   "outputs": [],
   "source": []
  },
  {
   "cell_type": "code",
   "execution_count": null,
   "metadata": {
    "collapsed": true
   },
   "outputs": [],
   "source": []
  },
  {
   "cell_type": "code",
   "execution_count": 32,
   "metadata": {},
   "outputs": [
    {
     "data": {
      "text/plain": [
       "array([[-0.01013149,  0.31069913, -0.21276136, -0.07767478,  0.06078896,\n",
       "        -0.06416612,  0.01688582,  0.3512251 , -0.31069913, -0.50657466,\n",
       "        -0.34784794, -0.49644317],\n",
       "       [-0.01016021,  0.31835337, -0.21675123, -0.0711215 ,  0.06096128,\n",
       "        -0.06096128, -0.04741433,  0.35222076, -0.30480642, -0.50462397,\n",
       "        -0.35222076, -0.49107701],\n",
       "       [-0.00338375,  0.32822383, -0.2064088 , -0.04060501,  0.06767502,\n",
       "        -0.05075626, -0.04398876,  0.35191009, -0.30453758, -0.51094638,\n",
       "        -0.35191009, -0.48726012],\n",
       "       [-0.00680103,  0.32644942, -0.19382934, -0.05100772,  0.07141081,\n",
       "        -0.05440824, -0.04420669,  0.35365354, -0.30264582, -0.52027877,\n",
       "        -0.35025303, -0.4828731 ],\n",
       "       [-0.00338425,  0.32488844, -0.20643953, -0.04399531,  0.06768509,\n",
       "        -0.05076382, -0.04399531,  0.35196248, -0.30119866, -0.51779096,\n",
       "        -0.35196248, -0.48394841],\n",
       "       [-0.00678138,  0.32211534, -0.21022264, -0.04746963,  0.06442307,\n",
       "        -0.054251  , -0.04407894,  0.35263153, -0.30177121, -0.51877523,\n",
       "        -0.35263153, -0.48147767],\n",
       "       [ 0.0033763 ,  0.33762981, -0.20933048, -0.03376298,  0.07427856,\n",
       "        -0.04051558, -0.04389188,  0.351135  , -0.30386683, -0.50982102,\n",
       "        -0.351135  , -0.48281063],\n",
       "       [-0.003397  ,  0.32950909, -0.21401106, -0.04416101,  0.06794002,\n",
       "        -0.05095501, -0.04076401,  0.3532881 , -0.29893608, -0.51294714,\n",
       "        -0.3532881 , -0.48237414],\n",
       "       [-0.00337188,  0.33044431, -0.21242849, -0.04720633,  0.06406573,\n",
       "        -0.05732197, -0.04383445,  0.35067559, -0.30346926, -0.51252587,\n",
       "        -0.34730371, -0.48555082],\n",
       "       [ 0.        ,  0.33123044, -0.20617405, -0.03717893,  0.07435785,\n",
       "        -0.04393873, -0.04393873,  0.35150986, -0.30419122, -0.51036528,\n",
       "        -0.35150986, -0.48670596],\n",
       "       [-0.0033979 ,  0.32280078, -0.20387418, -0.04417274,  0.06456016,\n",
       "        -0.05776435, -0.04417274,  0.35677981, -0.30241336, -0.50968544,\n",
       "        -0.3533819 , -0.48929802],\n",
       "       [ 0.01016086,  0.33869517, -0.19983015, -0.03386952,  0.07451294,\n",
       "        -0.04403037, -0.04403037,  0.35224298, -0.30482565, -0.50804276,\n",
       "        -0.34885603, -0.48772105],\n",
       "       [ 0.        ,  0.32600865, -0.20715133, -0.04754293,  0.06791847,\n",
       "        -0.05093885, -0.04075108,  0.35657196, -0.29884127, -0.5059926 ,\n",
       "        -0.35317604, -0.4924089 ],\n",
       "       [ 0.        ,  0.32804547, -0.20629664, -0.04734677,  0.06763824,\n",
       "        -0.0574925 , -0.04396486,  0.35171885, -0.30437209, -0.5039049 ,\n",
       "        -0.35171885, -0.49375916]])"
      ]
     },
     "execution_count": 32,
     "metadata": {},
     "output_type": "execute_result"
    }
   ],
   "source": [
    "X"
   ]
  },
  {
   "cell_type": "code",
   "execution_count": 29,
   "metadata": {},
   "outputs": [
    {
     "data": {
      "text/plain": [
       "(11830, 14, 12)"
      ]
     },
     "execution_count": 29,
     "metadata": {},
     "output_type": "execute_result"
    }
   ],
   "source": [
    "segs.shape"
   ]
  },
  {
   "cell_type": "code",
   "execution_count": 37,
   "metadata": {},
   "outputs": [
    {
     "data": {
      "text/plain": [
       "array([[-0.01013149,  0.31069913, -0.21276136, ..., -0.50657466,\n",
       "        -0.34784794, -0.49644317],\n",
       "       [-0.01016021,  0.31835337, -0.21675123, ..., -0.50462397,\n",
       "        -0.35222076, -0.49107701],\n",
       "       [-0.00338375,  0.32822383, -0.2064088 , ..., -0.51094638,\n",
       "        -0.35191009, -0.48726012],\n",
       "       ..., \n",
       "       [-0.02721635,  0.25311207, -0.38919382, ..., -0.5035025 ,\n",
       "        -0.21773081, -0.41641017],\n",
       "       [-0.03942975,  0.22606388, -0.39955476, ..., -0.4863002 ,\n",
       "        -0.22080658, -0.41006936],\n",
       "       [-0.03609219,  0.22170914, -0.37123391, ..., -0.54138278,\n",
       "        -0.22686516, -0.38154596]])"
      ]
     },
     "execution_count": 37,
     "metadata": {},
     "output_type": "execute_result"
    }
   ],
   "source": [
    "normalized = pp.normalize(data)\n",
    "normalized"
   ]
  },
  {
   "cell_type": "code",
   "execution_count": null,
   "metadata": {
    "collapsed": true
   },
   "outputs": [],
   "source": []
  },
  {
   "cell_type": "code",
   "execution_count": null,
   "metadata": {
    "collapsed": true
   },
   "outputs": [],
   "source": []
  },
  {
   "cell_type": "code",
   "execution_count": null,
   "metadata": {
    "collapsed": true
   },
   "outputs": [],
   "source": []
  },
  {
   "cell_type": "code",
   "execution_count": null,
   "metadata": {
    "collapsed": true
   },
   "outputs": [],
   "source": []
  },
  {
   "cell_type": "code",
   "execution_count": null,
   "metadata": {
    "collapsed": true
   },
   "outputs": [],
   "source": []
  },
  {
   "cell_type": "code",
   "execution_count": null,
   "metadata": {
    "collapsed": true
   },
   "outputs": [],
   "source": []
  },
  {
   "cell_type": "code",
   "execution_count": null,
   "metadata": {
    "collapsed": true
   },
   "outputs": [],
   "source": []
  }
 ],
 "metadata": {
  "kernelspec": {
   "display_name": "Python 2",
   "language": "python",
   "name": "python2"
  },
  "language_info": {
   "codemirror_mode": {
    "name": "ipython",
    "version": 2
   },
   "file_extension": ".py",
   "mimetype": "text/x-python",
   "name": "python",
   "nbconvert_exporter": "python",
   "pygments_lexer": "ipython2",
   "version": "2.7.13"
  }
 },
 "nbformat": 4,
 "nbformat_minor": 2
}
